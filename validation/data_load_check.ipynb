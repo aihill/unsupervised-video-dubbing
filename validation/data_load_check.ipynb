{
 "cells": [
  {
   "cell_type": "code",
   "execution_count": 3,
   "metadata": {},
   "outputs": [],
   "source": [
    "import os\n",
    "from data_load import LRW_Dataset_AV\n",
    "import torch\n",
    "import numpy as np\n"
   ]
  },
  {
   "cell_type": "code",
   "execution_count": 4,
   "metadata": {},
   "outputs": [
    {
     "name": "stdout",
     "output_type": "stream",
     "text": [
      "Loading train part\n",
      "CPU times: user 6.98 s, sys: 28.2 s, total: 35.1 s\n",
      "Wall time: 21.4 s\n"
     ]
    }
   ],
   "source": [
    "%%time\n",
    "train_check = LRW_Dataset_AV('train')\n"
   ]
  },
  {
   "cell_type": "code",
   "execution_count": 12,
   "metadata": {},
   "outputs": [
    {
     "name": "stdout",
     "output_type": "stream",
     "text": [
      "Idx: 0\n",
      "torch.Size([29, 68, 2])\n",
      "torch.Size([12, 29])\n",
      "Idx: 1\n",
      "torch.Size([29, 68, 2])\n",
      "torch.Size([12, 29])\n"
     ]
    }
   ],
   "source": [
    "for i, e in enumerate(train_check[0:2]):\n",
    "    \n",
    "    print(\"Idx: {}\".format(i))\n",
    "    print(train_check[i][0][0].shape)\n",
    "    print(train_check[i][0][1].shape)\n",
    "    "
   ]
  },
  {
   "cell_type": "code",
   "execution_count": null,
   "metadata": {},
   "outputs": [],
   "source": []
  }
 ],
 "metadata": {
  "kernelspec": {
   "display_name": "Python 3",
   "language": "python",
   "name": "python3"
  },
  "language_info": {
   "codemirror_mode": {
    "name": "ipython",
    "version": 3
   },
   "file_extension": ".py",
   "mimetype": "text/x-python",
   "name": "python",
   "nbconvert_exporter": "python",
   "pygments_lexer": "ipython3",
   "version": "3.6.3"
  }
 },
 "nbformat": 4,
 "nbformat_minor": 4
}
